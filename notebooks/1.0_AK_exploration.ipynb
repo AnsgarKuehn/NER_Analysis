{
 "cells": [
  {
   "cell_type": "code",
   "execution_count": 14,
   "id": "c62e180d-c064-4900-9289-d64b246e4086",
   "metadata": {},
   "outputs": [],
   "source": [
    "import requests\n",
    "from bs4 import BeautifulSoup as bs\n",
    "import re\n",
    "import pandas as pd\n",
    "import numpy as np\n",
    "from tqdm import trange"
   ]
  },
  {
   "cell_type": "code",
   "execution_count": 2,
   "id": "e83d554b-2483-4bb9-99c0-46e70cf72ec2",
   "metadata": {},
   "outputs": [],
   "source": [
    "def get_song_urls():\n",
    "    '''Extracts all the urls of the top 500 songs from rolling stone magazine and returns them as a list.'''\n",
    "    page = requests.get('https://www.cs.ubc.ca/~davet/music/list/Best9.html')\n",
    "    html = bs(page.content, 'html.parser')\n",
    "    urls = []\n",
    "    for element in html.find('table', class_ = 'music').find_all('a'):\n",
    "        content_str = element.get_attribute_list('href')[0]\n",
    "        if content_str ==  None:\n",
    "            continue\n",
    "        elif '../track/' in content_str:\n",
    "            urls.append('https://www.cs.ubc.ca/~davet/music' + content_str[2:])\n",
    "    return urls"
   ]
  },
  {
   "cell_type": "code",
   "execution_count": 199,
   "id": "f7851ccd-7c49-409c-ab60-2a4dff97e73c",
   "metadata": {},
   "outputs": [],
   "source": [
    "def get_song_data(url):\n",
    "    '''Scrapes the data of a given URL. Return a dictionary containing the artist, title, year, genre_list and lyrics'''\n",
    "    page = requests.get(url)\n",
    "    html = bs(page.content, 'html.parser')\n",
    "    \n",
    "    lyrics = ''\n",
    "    artist, title = html.find('div', class_ = 'pagetitle').decode_contents().split('<br/>')\n",
    "\n",
    "    for line_index in range(60):\n",
    "        line_content = html.find_all('td')[line_index].find('a')\n",
    "        if line_content != None:\n",
    "            line_content = line_content.decode_contents()\n",
    "\n",
    "            if line_content == 'Year':\n",
    "                year = int(html.find_all('td')[line_index+1].find('a').decode_contents())\n",
    "                #print(year)\n",
    "            elif line_content == 'LyricWiki':\n",
    "                lyrics = html.find_all('td')[line_index+1].decode_contents()\n",
    "                #print(lyrics)\n",
    "\n",
    "    return {'Artist':artist, \n",
    "            'Title':title, \n",
    "            'Year':year,  \n",
    "            'Lyrics':lyrics}"
   ]
  },
  {
   "cell_type": "code",
   "execution_count": 212,
   "id": "ff89e963-ef7d-46cb-834b-ad4005734637",
   "metadata": {
    "tags": []
   },
   "outputs": [],
   "source": [
    "#work with index on web pages as well in dataframe \n",
    "def main():\n",
    "    columns = ['Artist', 'Title', 'Year', 'Lyrics']\n",
    "    data = pd.DataFrame(columns = columns)\n",
    "    urls = get_song_urls()\n",
    "    for i in trange(len(urls)):\n",
    "\n",
    "        song_data = get_song_data(urls[i])\n",
    "        data.at[i] = song_data\n",
    "        if song_data['Lyrics'] == '':\n",
    "            print(f'No lyrics found at index {i}')\n",
    "    data.to_csv('../data/raw/Rolling_Stone_Top_500.csv')"
   ]
  },
  {
   "cell_type": "code",
   "execution_count": 213,
   "id": "ad5d7c68-a5f4-4a5f-b801-1af8b1721471",
   "metadata": {
    "tags": []
   },
   "outputs": [
    {
     "name": "stderr",
     "output_type": "stream",
     "text": [
      " 10%|█         | 50/500 [02:51<09:22,  1.25s/it] "
     ]
    },
    {
     "name": "stdout",
     "output_type": "stream",
     "text": [
      "No lyrics found at index 49\n"
     ]
    },
    {
     "name": "stderr",
     "output_type": "stream",
     "text": [
      " 14%|█▍        | 72/500 [03:34<08:32,  1.20s/it]"
     ]
    },
    {
     "name": "stdout",
     "output_type": "stream",
     "text": [
      "No lyrics found at index 71\n"
     ]
    },
    {
     "name": "stderr",
     "output_type": "stream",
     "text": [
      " 57%|█████▋    | 284/500 [08:32<04:40,  1.30s/it]"
     ]
    },
    {
     "name": "stdout",
     "output_type": "stream",
     "text": [
      "No lyrics found at index 283\n"
     ]
    },
    {
     "name": "stderr",
     "output_type": "stream",
     "text": [
      " 61%|██████    | 305/500 [08:57<04:04,  1.25s/it]"
     ]
    },
    {
     "name": "stdout",
     "output_type": "stream",
     "text": [
      "No lyrics found at index 304\n"
     ]
    },
    {
     "name": "stderr",
     "output_type": "stream",
     "text": [
      " 61%|██████▏   | 307/500 [09:00<03:48,  1.18s/it]"
     ]
    },
    {
     "name": "stdout",
     "output_type": "stream",
     "text": [
      "No lyrics found at index 306\n"
     ]
    },
    {
     "name": "stderr",
     "output_type": "stream",
     "text": [
      " 65%|██████▌   | 327/500 [09:41<05:47,  2.01s/it]"
     ]
    },
    {
     "name": "stdout",
     "output_type": "stream",
     "text": [
      "No lyrics found at index 326\n"
     ]
    },
    {
     "name": "stderr",
     "output_type": "stream",
     "text": [
      " 70%|██████▉   | 348/500 [10:08<03:08,  1.24s/it]"
     ]
    },
    {
     "name": "stdout",
     "output_type": "stream",
     "text": [
      "No lyrics found at index 347\n"
     ]
    },
    {
     "name": "stderr",
     "output_type": "stream",
     "text": [
      " 86%|████████▌ | 428/500 [12:31<01:35,  1.32s/it]"
     ]
    },
    {
     "name": "stdout",
     "output_type": "stream",
     "text": [
      "No lyrics found at index 427\n"
     ]
    },
    {
     "name": "stderr",
     "output_type": "stream",
     "text": [
      " 97%|█████████▋| 484/500 [13:54<00:46,  2.93s/it]"
     ]
    },
    {
     "name": "stdout",
     "output_type": "stream",
     "text": [
      "No lyrics found at index 483\n"
     ]
    },
    {
     "name": "stderr",
     "output_type": "stream",
     "text": [
      "100%|██████████| 500/500 [14:16<00:00,  1.71s/it]\n"
     ]
    }
   ],
   "source": [
    "if __name__=='__main__':\n",
    "    main()"
   ]
  }
 ],
 "metadata": {
  "kernelspec": {
   "display_name": "Python 3",
   "language": "python",
   "name": "python3"
  },
  "language_info": {
   "codemirror_mode": {
    "name": "ipython",
    "version": 3
   },
   "file_extension": ".py",
   "mimetype": "text/x-python",
   "name": "python",
   "nbconvert_exporter": "python",
   "pygments_lexer": "ipython3",
   "version": "3.8.5"
  }
 },
 "nbformat": 4,
 "nbformat_minor": 5
}
